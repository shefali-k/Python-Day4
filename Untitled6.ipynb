{
 "cells": [
  {
   "cell_type": "code",
   "execution_count": 15,
   "metadata": {},
   "outputs": [
    {
     "name": "stdout",
     "output_type": "stream",
     "text": [
      "[1, 2, 3, 4, 5, 6, 7, 8]\n",
      "Array is:  [1 2 3 4 5 6 7 8]\n"
     ]
    }
   ],
   "source": [
    "#Program 1\n",
    "#convert list of numeric values into 1-d numpy array\n",
    "import numpy as np\n",
    "l=[1,2,3,4,5,6,7,8]\n",
    "print(l)\n",
    "x=np.array(l)\n",
    "print('Array is: ',x)"
   ]
  },
  {
   "cell_type": "code",
   "execution_count": 12,
   "metadata": {},
   "outputs": [
    {
     "name": "stdout",
     "output_type": "stream",
     "text": [
      "[[ 2  3  4]\n",
      " [ 5  6  7]\n",
      " [ 8  9 10]]\n"
     ]
    }
   ],
   "source": [
    "#Program 2\n",
    "#3*3 matrix with values ranging from 2-10\n",
    "import numpy as np\n",
    "print(np.arange(2,11).reshape(3,3))"
   ]
  },
  {
   "cell_type": "code",
   "execution_count": 68,
   "metadata": {},
   "outputs": [
    {
     "name": "stdout",
     "output_type": "stream",
     "text": [
      "Null vector:  [0 0 0 0 0 0 0 0 0 0]\n",
      "Updated vector:  [ 0  0  0  0  0 11  0  0  0  0]\n"
     ]
    }
   ],
   "source": [
    "#Program 3\n",
    "#Create a null vector of size 10 and update 6th value to 11\n",
    "a=np.zeros((10),dtype=int)\n",
    "print('Null vector: ',a)\n",
    "a[5]=11\n",
    "print('Updated vector: ',a)"
   ]
  },
  {
   "cell_type": "code",
   "execution_count": 17,
   "metadata": {},
   "outputs": [
    {
     "name": "stdout",
     "output_type": "stream",
     "text": [
      "[12 13 14 15 16 17 18 19 20 21 22 23 24 25 26 27 28 29 30 31 32 33 34 35\n",
      " 36 37 38]\n"
     ]
    }
   ],
   "source": [
    "#Program 4\n",
    "#Create an array with values ranging from 12-38\n",
    "print(np.arange(12,39))\n"
   ]
  },
  {
   "cell_type": "code",
   "execution_count": 25,
   "metadata": {},
   "outputs": [
    {
     "name": "stdout",
     "output_type": "stream",
     "text": [
      "Original array:  [1 2 3 4 5 6 7 8]\n",
      "\n",
      " Reversed array:  [8 7 6 5 4 3 2 1]\n"
     ]
    }
   ],
   "source": [
    "#Program 5\n",
    "#Reversing an array\n",
    "import numpy as np\n",
    "arr=np.array([1,2,3,4,5,6,7,8])\n",
    "print('Original array: ',arr)\n",
    "print('\\n Reversed array: ',arr[::-1])"
   ]
  },
  {
   "cell_type": "code",
   "execution_count": 46,
   "metadata": {},
   "outputs": [
    {
     "name": "stdout",
     "output_type": "stream",
     "text": [
      "Original array:  [1 2 3 4 5 6 7 8]\n",
      "Converted array:  [1. 2. 3. 4. 5. 6. 7. 8.]\n"
     ]
    }
   ],
   "source": [
    "# Program 6\n",
    "#Int array converted to float array\n",
    "arr=np.array([1,2,3,4,5,6,7,8])\n",
    "print('Original array: ',arr)\n",
    "print('Converted array: ',np.array(arr,dtype=np.float32))"
   ]
  },
  {
   "cell_type": "code",
   "execution_count": 67,
   "metadata": {},
   "outputs": [
    {
     "name": "stdout",
     "output_type": "stream",
     "text": [
      "[[1 1 1 1 1]\n",
      " [1 0 0 0 1]\n",
      " [1 0 0 0 1]\n",
      " [1 0 0 0 1]\n",
      " [1 1 1 1 1]]\n"
     ]
    }
   ],
   "source": [
    "#Program 7\n",
    "#a 5*5 matrix with 1 in borders and zero inside\n",
    "a=np.ones((5,5),dtype=int)\n",
    "a[1:-1,1:-1]=0\n",
    "print(a)"
   ]
  },
  {
   "cell_type": "code",
   "execution_count": 54,
   "metadata": {},
   "outputs": [
    {
     "name": "stdout",
     "output_type": "stream",
     "text": [
      "10\n",
      "4\n",
      "40\n"
     ]
    }
   ],
   "source": [
    "#Program 8\n",
    "#Number of elements in an array\n",
    "a=np.array([1,2,3,4,5,6,7,8,9,10])\n",
    "print(a.size)\n",
    "print(a.itemsize)\n",
    "print(a.nbytes)\n"
   ]
  },
  {
   "cell_type": "code",
   "execution_count": 95,
   "metadata": {},
   "outputs": [
    {
     "name": "stdout",
     "output_type": "stream",
     "text": [
      "[  1   8  27  64 125]\n"
     ]
    }
   ],
   "source": [
    "#Program 9\n",
    "#Function to cube all elements of an array\n",
    "def cube(a):\n",
    "    for x in range(0,len(a)):\n",
    "        a[x]=a[x]**3\n",
    "    return np.array(a)\n",
    "\n",
    "a=np.array([1,2,3,4,5])\n",
    "print(cube(a))"
   ]
  },
  {
   "cell_type": "code",
   "execution_count": 83,
   "metadata": {},
   "outputs": [
    {
     "name": "stdout",
     "output_type": "stream",
     "text": [
      "Array before modification \n",
      " [[1 1 1 1 1]\n",
      " [1 1 1 1 1]\n",
      " [1 1 1 1 1]\n",
      " [1 1 1 1 1]\n",
      " [1 1 1 1 1]]\n",
      "Array after modification \n",
      "\n",
      "[[1 1 1 1 1 0]\n",
      " [1 1 1 1 1 0]\n",
      " [1 1 1 1 1 0]\n",
      " [1 1 1 1 1 0]\n",
      " [1 1 1 1 1 0]]\n"
     ]
    }
   ],
   "source": [
    "#Program 10\n",
    "#Adding an extra column to a numpy array\n",
    "a=np.ones((5,5),dtype=int)\n",
    "print('Array before modification \\n',a)\n",
    "b=np.zeros((5,1),dtype=int)\n",
    "print('Array after modification \\n')\n",
    "print(np.append(a,b,axis=1))"
   ]
  },
  {
   "cell_type": "code",
   "execution_count": 86,
   "metadata": {},
   "outputs": [
    {
     "name": "stdout",
     "output_type": "stream",
     "text": [
      "Original Array: \n",
      " [ 1  2  3 -4 -6  8 -1 10]\n",
      "Array after modification: \n",
      " [ 1  2  3  0  0  8  0 10]\n"
     ]
    }
   ],
   "source": [
    "#Program 11\n",
    "#Remove the negative values in a numpy array with 0.\n",
    "def rem_neg(arr):\n",
    "    for i in range(0,len(arr)):\n",
    "        if arr[i]<0:\n",
    "            arr[i]=0\n",
    "    return arr\n",
    "\n",
    "a=np.array([1,2,3,-4,-6,8,-1,10])\n",
    "print('Original Array: \\n',a)\n",
    "print('Array after modification: \\n',rem_neg(a))"
   ]
  },
  {
   "cell_type": "code",
   "execution_count": 87,
   "metadata": {},
   "outputs": [
    {
     "data": {
      "text/plain": [
       "array([1, 2, 3, 4, 5, 6, 1, 2, 3, 4, 5, 6, 1, 2, 3, 4, 5, 6])"
      ]
     },
     "execution_count": 87,
     "metadata": {},
     "output_type": "execute_result"
    }
   ],
   "source": [
    "#Program 12\n",
    "#one dimensional array with 3 elements. Extend the array by repeating the current elements, 3 times.\n",
    "a=np.array([1,2,3,4,5,6])\n",
    "np.tile(a,3)"
   ]
  },
  {
   "cell_type": "code",
   "execution_count": 89,
   "metadata": {},
   "outputs": [
    {
     "name": "stdout",
     "output_type": "stream",
     "text": [
      "Are the two arrays equal?\n",
      "\n"
     ]
    },
    {
     "data": {
      "text/plain": [
       "False"
      ]
     },
     "execution_count": 89,
     "metadata": {},
     "output_type": "execute_result"
    }
   ],
   "source": [
    "#Program 13\n",
    "#compare two arrays using numpy.\n",
    "a=np.array([1,2,3,4,5,6])\n",
    "b=np.array([3,4,5,6,7,8])\n",
    "print('Are the two arrays equal?\\n')\n",
    "np.array_equal(a,b)"
   ]
  },
  {
   "cell_type": "code",
   "execution_count": 99,
   "metadata": {},
   "outputs": [
    {
     "name": "stdout",
     "output_type": "stream",
     "text": [
      "[[0. 0. 0.]\n",
      " [0. 0. 0.]]\n",
      "size:  48 \n",
      "\n",
      "[[0 0 0]\n",
      " [0 0 0]]\n",
      "size:  24\n"
     ]
    }
   ],
   "source": [
    "#Program 14\n",
    "#program to find the memory size of a NumPy array\n",
    "a=np.zeros((2,3))\n",
    "print(a)\n",
    "print('size: ',a.nbytes,'\\n')\n",
    "\n",
    "b=np.zeros((2,3),dtype=int)\n",
    "print(b)\n",
    "print('size: ',b.nbytes)"
   ]
  },
  {
   "cell_type": "code",
   "execution_count": 102,
   "metadata": {},
   "outputs": [
    {
     "name": "stdout",
     "output_type": "stream",
     "text": [
      "[[0.37683058 0.5072848  0.52830085 0.16124226 0.95916669]\n",
      " [0.75553517 0.38445981 0.88930054 0.87001862 0.87803405]\n",
      " [0.21224987 0.24237971 0.57658436 0.05592275 0.38473385]]\n",
      "\n",
      " Array after reshape: \n",
      "\n",
      "[[0.37683058 0.75553517 0.21224987]\n",
      " [0.5072848  0.38445981 0.24237971]\n",
      " [0.52830085 0.88930054 0.57658436]\n",
      " [0.16124226 0.87001862 0.05592275]\n",
      " [0.95916669 0.87803405 0.38473385]]\n"
     ]
    }
   ],
   "source": [
    "#Program 15\n",
    "#3x5 array with random elements. Reshape this into 5x3.\n",
    "a=np.random.random((3,5))\n",
    "print(a)\n",
    "print('\\n Array after reshape: \\n')\n",
    "print(a.T)"
   ]
  },
  {
   "cell_type": "code",
   "execution_count": 106,
   "metadata": {},
   "outputs": [
    {
     "name": "stdout",
     "output_type": "stream",
     "text": [
      "(6, 6, 6)\n",
      "[[[1. 0. 0. 0. 0. 0.]\n",
      "  [0. 1. 0. 0. 0. 0.]\n",
      "  [0. 0. 1. 0. 0. 0.]\n",
      "  [0. 0. 0. 1. 0. 0.]\n",
      "  [0. 0. 0. 0. 1. 0.]\n",
      "  [0. 0. 0. 0. 0. 1.]]\n",
      "\n",
      " [[1. 0. 0. 0. 0. 0.]\n",
      "  [0. 1. 0. 0. 0. 0.]\n",
      "  [0. 0. 1. 0. 0. 0.]\n",
      "  [0. 0. 0. 1. 0. 0.]\n",
      "  [0. 0. 0. 0. 1. 0.]\n",
      "  [0. 0. 0. 0. 0. 1.]]\n",
      "\n",
      " [[1. 0. 0. 0. 0. 0.]\n",
      "  [0. 1. 0. 0. 0. 0.]\n",
      "  [0. 0. 1. 0. 0. 0.]\n",
      "  [0. 0. 0. 1. 0. 0.]\n",
      "  [0. 0. 0. 0. 1. 0.]\n",
      "  [0. 0. 0. 0. 0. 1.]]\n",
      "\n",
      " [[1. 0. 0. 0. 0. 0.]\n",
      "  [0. 1. 0. 0. 0. 0.]\n",
      "  [0. 0. 1. 0. 0. 0.]\n",
      "  [0. 0. 0. 1. 0. 0.]\n",
      "  [0. 0. 0. 0. 1. 0.]\n",
      "  [0. 0. 0. 0. 0. 1.]]\n",
      "\n",
      " [[1. 0. 0. 0. 0. 0.]\n",
      "  [0. 1. 0. 0. 0. 0.]\n",
      "  [0. 0. 1. 0. 0. 0.]\n",
      "  [0. 0. 0. 1. 0. 0.]\n",
      "  [0. 0. 0. 0. 1. 0.]\n",
      "  [0. 0. 0. 0. 0. 1.]]\n",
      "\n",
      " [[1. 0. 0. 0. 0. 0.]\n",
      "  [0. 1. 0. 0. 0. 0.]\n",
      "  [0. 0. 1. 0. 0. 0.]\n",
      "  [0. 0. 0. 1. 0. 0.]\n",
      "  [0. 0. 0. 0. 1. 0.]\n",
      "  [0. 0. 0. 0. 0. 1.]]]\n"
     ]
    }
   ],
   "source": [
    "#Program 16\n",
    "#create a 3-D array [6x6x6] with ones on diagonals and zeros elsewhere\n",
    "a=np.eye(6)\n",
    "b=np.array([a]*6)\n",
    "print(b.shape)\n",
    "print(b)"
   ]
  },
  {
   "cell_type": "code",
   "execution_count": 258,
   "metadata": {},
   "outputs": [
    {
     "name": "stdout",
     "output_type": "stream",
     "text": [
      "[[15 20 25 12]\n",
      " [45 50 50 48]\n",
      " [ 8  7  3  2]\n",
      " [28 32 40 39]]\n",
      "Maths  \n",
      " 1.Mean:  24.0 \n",
      " 2.Median 21.5 \n",
      " 3.Standard Deviation:  14.089002803605371\n",
      "Physics  \n",
      " 1.Mean:  27.25 \n",
      " 2.Median 26.0 \n",
      " 3.Standard Deviation:  15.833114033569013\n",
      "Chemistry  \n",
      " 1.Mean:  29.5 \n",
      " 2.Median 32.5 \n",
      " 3.Standard Deviation:  17.698870020427858\n",
      "Sociology  \n",
      " 1.Mean:  25.25 \n",
      " 2.Median 25.5 \n",
      " 3.Standard Deviation:  18.859679212542297\n",
      "\n",
      " Mode is [[8 7 3 2]]\n"
     ]
    }
   ],
   "source": [
    "#Program 17\n",
    "#The following table includes marks of students in various subjects. \n",
    "#Each row corresponds to a student [ Rajesh, Rima, Ram and Joseph]  coulmn correspond to a \n",
    "#subject [Maths, Physics, Chemistry, Sociology]\n",
    "\n",
    "#15 . 20 .   25  12\n",
    "#45 .  50 .  50 . 48\n",
    "#8 .    7 .   3 .    2\n",
    "#28 .  32 . 40 .  39\n",
    "\n",
    "#A.\n",
    "#1. FInd the mean, median, mode and standard deviation for marks of each subject\n",
    "student=['Rajesh','Rima','Ram','Joseph'] #Rows\n",
    "subject=['Maths', 'Physics', 'Chemistry', 'Sociology']\n",
    "a=np.array([[15,20,25,12],\n",
    "            [45,50,50,48],\n",
    "            [8,7,3,2],\n",
    "            [28,32,40,39]])\n",
    "print(a)\n",
    "for i in range(len(subject)):\n",
    "    print(subject[i],' \\n 1.Mean: ',a[:,i].mean(),'\\n 2.Median',np.median(a[:,i]),'\\n 3.Standard Deviation: ',np.std(a[:,i]))\n",
    "m=stats.mode(a,axis=0)\n",
    "print('\\n Mode is',m[0])\n"
   ]
  },
  {
   "cell_type": "code",
   "execution_count": 259,
   "metadata": {},
   "outputs": [
    {
     "name": "stdout",
     "output_type": "stream",
     "text": [
      "Maths : \n",
      " 1.Minimum:  8 \n",
      " 2.Maximum 45\n",
      "Physics : \n",
      " 1.Minimum:  7 \n",
      " 2.Maximum 50\n",
      "Chemistry : \n",
      " 1.Minimum:  3 \n",
      " 2.Maximum 50\n",
      "Sociology : \n",
      " 1.Minimum:  2 \n",
      " 2.Maximum 48\n"
     ]
    }
   ],
   "source": [
    "#2. What is the minimum and maximum of each subject?\n",
    "for i in range(len(subject)):\n",
    "    print(subject[i],': \\n 1.Minimum: ',a[:,i].min(),'\\n 2.Maximum',a[:,i].max())"
   ]
  },
  {
   "cell_type": "code",
   "execution_count": 267,
   "metadata": {},
   "outputs": [
    {
     "name": "stdout",
     "output_type": "stream",
     "text": [
      "Rajesh  is good in Chemistry and bad in Sociology\n",
      "Rima  is good in Physics and bad in Maths\n",
      "Ram  is good in Maths and bad in Sociology\n",
      "Joseph  is good in Chemistry and bad in Maths\n"
     ]
    }
   ],
   "source": [
    "#3. Print the subject in  each student good at and poor at ?\n",
    "student=['Rajesh','Rima','Ram','Joseph'] #Rows\n",
    "subject=['Maths', 'Physics', 'Chemistry', 'Sociology','English'] #Columns\n",
    "i=0\n",
    "for i in range(0,len(student)):\n",
    "    print(student[i],\" is good in %s and bad in %s\"%(subject[a[i].argmax()],subject[a[i].argmin()]))\n"
   ]
  },
  {
   "cell_type": "code",
   "execution_count": 240,
   "metadata": {},
   "outputs": [
    {
     "name": "stdout",
     "output_type": "stream",
     "text": [
      "Mean:\t 26.5\n",
      "Mode:\t [[8 7 3 2]]\n",
      "Median:\t 26.5\n",
      "Standard Deviation:\t 16.848590445494246\n"
     ]
    }
   ],
   "source": [
    "#4. overall class mean, mode, median and standard deviation\n",
    "from scipy import stats\n",
    "m=stats.mode(a)\n",
    "print('Mean:\\t', a.mean())\n",
    "print('Mode:\\t',m[0])\n",
    "print('Median:\\t',np.median(a))\n",
    "print('Standard Deviation:\\t',np.std(a))"
   ]
  },
  {
   "cell_type": "code",
   "execution_count": 255,
   "metadata": {},
   "outputs": [
    {
     "name": "stdout",
     "output_type": "stream",
     "text": [
      "[[15 20 25 12 40]\n",
      " [45 50 50 48 49]\n",
      " [ 8  7  3  2 10]\n",
      " [28 32 40 39 35]]\n",
      "Maths  \n",
      " 1.Mean:  24.0 \n",
      " 2.Median 21.5 \n",
      " 3.Standard Deviation:  14.089002803605371\n",
      "Physics  \n",
      " 1.Mean:  27.25 \n",
      " 2.Median 26.0 \n",
      " 3.Standard Deviation:  15.833114033569013\n",
      "Chemistry  \n",
      " 1.Mean:  29.5 \n",
      " 2.Median 32.5 \n",
      " 3.Standard Deviation:  17.698870020427858\n",
      "Sociology  \n",
      " 1.Mean:  25.25 \n",
      " 2.Median 25.5 \n",
      " 3.Standard Deviation:  18.859679212542297\n",
      "English  \n",
      " 1.Mean:  33.5 \n",
      " 2.Median 37.5 \n",
      " 3.Standard Deviation:  14.465476141489432\n",
      "\n",
      " Mode is [[ 8  7  3  2 10]]\n"
     ]
    }
   ],
   "source": [
    "#Teacher just announced the marks of English. They are 40, 49, 10 and 35 for eah student.\n",
    "b=np.array([40,49,10,35])\n",
    "c=np.c_[a,b]\n",
    "print(c)\n",
    "\n",
    "#A.\n",
    "#1. FInd the mean, median, mode and standard deviation for marks of each subject\n",
    "for i in range(len(subject)):\n",
    "    print(subject[i],' \\n 1.Mean: ',c[:,i].mean(),'\\n 2.Median',np.median(c[:,i]),'\\n 3.Standard Deviation: ',np.std(c[:,i]))\n",
    "m=stats.mode(c,axis=0)\n",
    "print('\\n Mode is',m[0])\n"
   ]
  },
  {
   "cell_type": "code",
   "execution_count": 175,
   "metadata": {},
   "outputs": [
    {
     "name": "stdout",
     "output_type": "stream",
     "text": [
      "Maths: \n",
      " 1.Minimum:  8 \n",
      " 2.Maximum 45\n",
      "Physics: \n",
      " 1.Minimum:  7 \n",
      " 2.Maximum 50\n",
      "Chemistry: \n",
      " 1.Minimum:  3 \n",
      " 2.Maximum 50\n",
      "Sociology: \n",
      " 1.Minimum:  2 \n",
      " 2.Maximum 48\n",
      "English: \n",
      " 1.Minimum:  10 \n",
      " 2.Maximum 49\n"
     ]
    }
   ],
   "source": [
    "#2. What is the minimum and maximum of each subject?\n",
    "print('Maths: \\n 1.Minimum: ',c[:,0].min(),'\\n 2.Maximum',c[:,0].max())\n",
    "print('Physics: \\n 1.Minimum: ',c[:,1].min(),'\\n 2.Maximum',c[:,1].max())\n",
    "print('Chemistry: \\n 1.Minimum: ',c[:,2].min(),'\\n 2.Maximum',c[:,2].max())\n",
    "print('Sociology: \\n 1.Minimum: ',c[:,3].min(),'\\n 2.Maximum',c[:,3].max())\n",
    "print('English: \\n 1.Minimum: ',c[:,4].min(),'\\n 2.Maximum',c[:,4].max())"
   ]
  },
  {
   "cell_type": "code",
   "execution_count": 276,
   "metadata": {},
   "outputs": [
    {
     "name": "stdout",
     "output_type": "stream",
     "text": [
      "Rajesh  is good in English and bad in Sociology\n",
      "Rima  is good in Physics and bad in Maths\n",
      "Ram  is good in English and bad in Sociology\n",
      "Joseph  is good in Chemistry and bad in Maths\n"
     ]
    }
   ],
   "source": [
    "#3. Print the subject in  each student good at and poor at ?\n",
    "student=['Rajesh','Rima','Ram','Joseph'] #Rows\n",
    "subject=['Maths', 'Physics', 'Chemistry', 'Sociology','English'] #Columns\n",
    "for i in range(len(student)):\n",
    "    print(student[i],\" is good in %s and bad in %s\"%(subject[c[i].argmax()],subject[c[i].argmin()]))"
   ]
  },
  {
   "cell_type": "code",
   "execution_count": 183,
   "metadata": {},
   "outputs": [
    {
     "name": "stdout",
     "output_type": "stream",
     "text": [
      "Mean:\t 27.9\n",
      "Mode:\t [[ 8  7  3  2 10]]\n",
      "Median:\t 30.0\n",
      "Standard Deviation:\t 16.63700694235595\n"
     ]
    }
   ],
   "source": [
    "#4. overall class mean, mode, median and standard deviation\n",
    "from scipy import stats\n",
    "md=stats.mode(c)\n",
    "print('Mean:\\t', c.mean())\n",
    "print('Mode:\\t',md[0])\n",
    "print('Median:\\t',np.median(c))\n",
    "print('Standard Deviation:\\t',np.std(c))"
   ]
  },
  {
   "cell_type": "code",
   "execution_count": 204,
   "metadata": {},
   "outputs": [
    {
     "name": "stdout",
     "output_type": "stream",
     "text": [
      "[[15 20 25 12 40]\n",
      " [45 50 50 48 49]\n",
      " [ 8  7  3  2 10]\n",
      " [28 32 40 39 35]\n",
      " [ 0  0  0  0  0]]\n"
     ]
    }
   ],
   "source": [
    "#C. A new student joined the class. For the time being, the scores are going to be zero for each student. \n",
    "newstu=[0,0,0,0,0]\n",
    "e=np.vstack([c,newstu])\n",
    "print(e)"
   ]
  },
  {
   "cell_type": "code",
   "execution_count": 242,
   "metadata": {},
   "outputs": [
    {
     "name": "stdout",
     "output_type": "stream",
     "text": [
      "Maths: \n",
      " 1.Mean:  19.2 \n",
      " 2.Median 15.0 \n",
      " 3.Standard Deviation:  15.84171707865028\n",
      "Physics: \n",
      " 1.Mean:  21.8 \n",
      " 2.Median 20.0 \n",
      " 3.Standard Deviation:  17.870646322950943\n",
      "Chemistry: \n",
      " 1.Mean:  23.6 \n",
      " 2.Median 25.0 \n",
      " 3.Standard Deviation:  19.744366285095097\n",
      "Sociology: \n",
      " 1.Mean:  20.2 \n",
      " 2.Median 12.0 \n",
      " 3.Standard Deviation:  19.661129163911212\n",
      "English: \n",
      " 1.Mean:  26.8 \n",
      " 2.Median 35.0 \n",
      " 3.Standard Deviation:  18.626862323000083\n",
      "\n",
      " Mode is [[0 0 0 0 0]]\n"
     ]
    }
   ],
   "source": [
    "#A.\n",
    "#1. FInd the mean, median, mode and standard deviation for marks of each subject\n",
    "print('Maths: \\n 1.Mean: ',e[:,0].mean(),'\\n 2.Median',np.median(e[:,0]),'\\n 3.Standard Deviation: ',np.std(e[:,0]))\n",
    "print('Physics: \\n 1.Mean: ',e[:,1].mean(),'\\n 2.Median',np.median(e[:,1]),'\\n 3.Standard Deviation: ',np.std(e[:,1]))\n",
    "print('Chemistry: \\n 1.Mean: ',e[:,2].mean(),'\\n 2.Median',np.median(e[:,2]),'\\n 3.Standard Deviation: ',np.std(e[:,2]))\n",
    "print('Sociology: \\n 1.Mean: ',e[:,3].mean(),'\\n 2.Median',np.median(e[:,3]),'\\n 3.Standard Deviation: ',np.std(e[:,3]))\n",
    "print('English: \\n 1.Mean: ',e[:,4].mean(),'\\n 2.Median',np.median(e[:,4]),'\\n 3.Standard Deviation: ',np.std(e[:,4]))\n",
    "\n",
    "m=stats.mode(e,axis=0)\n",
    "print('\\n Mode is',m[0])"
   ]
  },
  {
   "cell_type": "code",
   "execution_count": 207,
   "metadata": {},
   "outputs": [
    {
     "name": "stdout",
     "output_type": "stream",
     "text": [
      "Maths: \n",
      " 1.Minimum:  0 \n",
      " 2.Maximum 45\n",
      "Physics: \n",
      " 1.Minimum:  0 \n",
      " 2.Maximum 50\n",
      "Chemistry: \n",
      " 1.Minimum:  0 \n",
      " 2.Maximum 50\n",
      "Sociology: \n",
      " 1.Minimum:  0 \n",
      " 2.Maximum 48\n",
      "English: \n",
      " 1.Minimum:  0 \n",
      " 2.Maximum 49\n"
     ]
    }
   ],
   "source": [
    "#2. What is the minimum and maximum of each subject?\n",
    "print('Maths: \\n 1.Minimum: ',e[:,0].min(),'\\n 2.Maximum',e[:,0].max())\n",
    "print('Physics: \\n 1.Minimum: ',e[:,1].min(),'\\n 2.Maximum',e[:,1].max())\n",
    "print('Chemistry: \\n 1.Minimum: ',e[:,2].min(),'\\n 2.Maximum',e[:,2].max())\n",
    "print('Sociology: \\n 1.Minimum: ',e[:,3].min(),'\\n 2.Maximum',e[:,3].max())\n",
    "print('English: \\n 1.Minimum: ',e[:,4].min(),'\\n 2.Maximum',e[:,4].max())"
   ]
  },
  {
   "cell_type": "code",
   "execution_count": 275,
   "metadata": {},
   "outputs": [
    {
     "name": "stdout",
     "output_type": "stream",
     "text": [
      "Rajesh  is good in English and bad in Sociology\n",
      "Rima  is good in Physics and bad in Maths\n",
      "Ram  is good in English and bad in Sociology\n",
      "Joseph  is good in Chemistry and bad in Maths\n",
      "New  is good in Maths and bad in Maths\n"
     ]
    }
   ],
   "source": [
    "#3. Print the subject in  each student good at and poor at ?\n",
    "student=['Rajesh','Rima','Ram','Joseph','New'] #Rows\n",
    "subject=['Maths', 'Physics', 'Chemistry', 'Sociology','English'] #Columns\n",
    "for i in range(len(student)):\n",
    "    print(student[i],\" is good in %s and bad in %s\"%(subject[e[i].argmax()],subject[e[i].argmin()]))"
   ]
  },
  {
   "cell_type": "code",
   "execution_count": 208,
   "metadata": {},
   "outputs": [
    {
     "name": "stdout",
     "output_type": "stream",
     "text": [
      "Mean:\t 22.32\n",
      "Mode:\t [[0 0 0 0 0]]\n",
      "Median:\t 20.0\n",
      "Standard Deviation:\t 18.600473112262495\n"
     ]
    }
   ],
   "source": [
    "#4. overall class mean, mode, median and standard deviation\n",
    "from scipy import stats\n",
    "md=stats.mode(e)\n",
    "print('Mean:\\t', e.mean())\n",
    "print('Mode:\\t',md[0])\n",
    "print('Median:\\t',np.median(e))\n",
    "print('Standard Deviation:\\t',np.std(e))"
   ]
  },
  {
   "cell_type": "code",
   "execution_count": 232,
   "metadata": {},
   "outputs": [
    {
     "name": "stdout",
     "output_type": "stream",
     "text": [
      "Marks of Rajesh:\n",
      "\n",
      "Mathematics \t 15\n",
      "Physics \t 20\n",
      "Chemistry \t 25\n",
      "Sociology \t 12\n",
      "English \t 40\n",
      "\n",
      " Marks of Rima:\n",
      "\n",
      "Mathematics \t 45\n",
      "Physics \t 50\n",
      "Chemistry \t 50\n",
      "Sociology \t 48\n",
      "English \t 49\n",
      "\n",
      " Marks of Ram:\n",
      "\n",
      "Mathematics \t 8\n",
      "Physics \t 7\n",
      "Chemistry \t 3\n",
      "Sociology \t 2\n",
      "English \t 10\n",
      "\n",
      " Marks of Joseph:\n",
      "\n",
      "Mathematics \t 28\n",
      "Physics \t 32\n",
      "Chemistry \t 40\n",
      "Sociology \t 39\n",
      "English \t 35\n",
      "\n",
      " Marks of New:\n",
      "\n",
      "Mathematics \t 0\n",
      "Physics \t 0\n",
      "Chemistry \t 0\n",
      "Sociology \t 0\n",
      "English \t 0\n"
     ]
    }
   ],
   "source": [
    "#D. Print the current score card for the class\n",
    "student=['Rajesh','Rima','Ram','Joseph','New'] #Rows\n",
    "subject=['Mathematics', 'Physics', 'Chemistry', 'Sociology','English'] #Columns\n",
    "print('Marks of Rajesh:\\n')\n",
    "for x in range(len(subject)):\n",
    "    print(subject[x],'\\t',e[0][x])\n",
    "print('\\n Marks of Rima:\\n')\n",
    "for x in range(len(subject)):\n",
    "    print(subject[x],'\\t',e[1][x])\n",
    "print('\\n Marks of Ram:\\n')\n",
    "for x in range(len(subject)):\n",
    "    print(subject[x],'\\t',e[2][x])\n",
    "print('\\n Marks of Joseph:\\n')\n",
    "for x in range(len(subject)):\n",
    "    print(subject[x],'\\t',e[3][x])\n",
    "print('\\n Marks of New:\\n')\n",
    "for x in range(len(subject)):\n",
    "    print(subject[x],'\\t',e[4][x])"
   ]
  },
  {
   "cell_type": "code",
   "execution_count": null,
   "metadata": {},
   "outputs": [],
   "source": []
  }
 ],
 "metadata": {
  "kernelspec": {
   "display_name": "Python 3",
   "language": "python",
   "name": "python3"
  },
  "language_info": {
   "codemirror_mode": {
    "name": "ipython",
    "version": 3
   },
   "file_extension": ".py",
   "mimetype": "text/x-python",
   "name": "python",
   "nbconvert_exporter": "python",
   "pygments_lexer": "ipython3",
   "version": "3.6.5"
  }
 },
 "nbformat": 4,
 "nbformat_minor": 2
}
